{
  "nbformat": 4,
  "nbformat_minor": 0,
  "metadata": {
    "colab": {
      "provenance": [],
      "collapsed_sections": [
        "fFOnHz-bsBO4",
        "4obgVz9NsUXN",
        "yrJ-VkABsiQu",
        "blO13pTJHVoC",
        "a2seX_QXswej",
        "jmtDf2CK0uuK"
      ]
    },
    "kernelspec": {
      "name": "python3",
      "display_name": "Python 3"
    },
    "language_info": {
      "name": "python"
    }
  },
  "cells": [
    {
      "cell_type": "code",
      "execution_count": null,
      "metadata": {
        "id": "Cgw3s1S-rQwd"
      },
      "outputs": [],
      "source": [
        "import numpy as np\n",
        "import pandas as pd\n",
        "import matplotlib.pyplot as plt\n",
        "# Model Selection\n",
        "from sklearn.model_selection import train_test_split\n",
        "from sklearn.model_selection import KFold\n",
        "from sklearn.model_selection import cross_val_score\n",
        "from sklearn.model_selection import GridSearchCV\n",
        "from sklearn.model_selection import ShuffleSplit\n",
        "# Standardization\n",
        "from sklearn.preprocessing import StandardScaler\n",
        "# Model\n",
        "from sklearn.neighbors import KNeighborsClassifier\n",
        "from sklearn.svm import SVC\n",
        "from sklearn.pipeline import Pipeline\n",
        "# Metrics\n",
        "from sklearn.metrics import accuracy_score\n",
        "from sklearn.metrics import confusion_matrix\n",
        "# Thread\n",
        "from itertools import combinations\n",
        "import threading\n",
        "import time\n",
        "# Our Module\n",
        "import predpairnumber as pred\n",
        "import numhardditect  as ditect"
      ]
    },
    {
      "cell_type": "markdown",
      "source": [
        "# Part 1 - Upload Dataset and create DataFrame"
      ],
      "metadata": {
        "id": "fFOnHz-bsBO4"
      }
    },
    {
      "cell_type": "code",
      "source": [
        "data = np.load('mnist.npz')\n",
        "X, y = data['X'], data['y']\n",
        "X=np.transpose(X)\n",
        "y=np.transpose(y)"
      ],
      "metadata": {
        "id": "NR37h8jjr9E0"
      },
      "execution_count": null,
      "outputs": []
    },
    {
      "cell_type": "code",
      "source": [
        "dataframe=pd.DataFrame(data=X)\n",
        "dataframe['target']=y"
      ],
      "metadata": {
        "id": "XedEcEyssEe7"
      },
      "execution_count": null,
      "outputs": []
    },
    {
      "cell_type": "code",
      "source": [
        "dataframe.head(5)"
      ],
      "metadata": {
        "colab": {
          "base_uri": "https://localhost:8080/",
          "height": 235
        },
        "id": "UCXcOyH4sIUE",
        "outputId": "be98ccb5-2ac9-4390-cbaa-716a7fd485b8"
      },
      "execution_count": null,
      "outputs": [
        {
          "output_type": "execute_result",
          "data": {
            "text/plain": [
              "   0  1  2  3  4  5  6  7  8  9  ...  775  776  777  778  779  780  781  782  \\\n",
              "0  0  0  0  0  0  0  0  0  0  0  ...    0    0    0    0    0    0    0    0   \n",
              "1  0  0  0  0  0  0  0  0  0  0  ...    0    0    0    0    0    0    0    0   \n",
              "2  0  0  0  0  0  0  0  0  0  0  ...    0    0    0    0    0    0    0    0   \n",
              "3  0  0  0  0  0  0  0  0  0  0  ...    0    0    0    0    0    0    0    0   \n",
              "4  0  0  0  0  0  0  0  0  0  0  ...    0    0    0    0    0    0    0    0   \n",
              "\n",
              "   783  target  \n",
              "0    0     0.0  \n",
              "1    0     0.0  \n",
              "2    0     0.0  \n",
              "3    0     0.0  \n",
              "4    0     0.0  \n",
              "\n",
              "[5 rows x 785 columns]"
            ],
            "text/html": [
              "\n",
              "  <div id=\"df-8dc1623b-3752-4470-b8b7-a6b30309035e\">\n",
              "    <div class=\"colab-df-container\">\n",
              "      <div>\n",
              "<style scoped>\n",
              "    .dataframe tbody tr th:only-of-type {\n",
              "        vertical-align: middle;\n",
              "    }\n",
              "\n",
              "    .dataframe tbody tr th {\n",
              "        vertical-align: top;\n",
              "    }\n",
              "\n",
              "    .dataframe thead th {\n",
              "        text-align: right;\n",
              "    }\n",
              "</style>\n",
              "<table border=\"1\" class=\"dataframe\">\n",
              "  <thead>\n",
              "    <tr style=\"text-align: right;\">\n",
              "      <th></th>\n",
              "      <th>0</th>\n",
              "      <th>1</th>\n",
              "      <th>2</th>\n",
              "      <th>3</th>\n",
              "      <th>4</th>\n",
              "      <th>5</th>\n",
              "      <th>6</th>\n",
              "      <th>7</th>\n",
              "      <th>8</th>\n",
              "      <th>9</th>\n",
              "      <th>...</th>\n",
              "      <th>775</th>\n",
              "      <th>776</th>\n",
              "      <th>777</th>\n",
              "      <th>778</th>\n",
              "      <th>779</th>\n",
              "      <th>780</th>\n",
              "      <th>781</th>\n",
              "      <th>782</th>\n",
              "      <th>783</th>\n",
              "      <th>target</th>\n",
              "    </tr>\n",
              "  </thead>\n",
              "  <tbody>\n",
              "    <tr>\n",
              "      <th>0</th>\n",
              "      <td>0</td>\n",
              "      <td>0</td>\n",
              "      <td>0</td>\n",
              "      <td>0</td>\n",
              "      <td>0</td>\n",
              "      <td>0</td>\n",
              "      <td>0</td>\n",
              "      <td>0</td>\n",
              "      <td>0</td>\n",
              "      <td>0</td>\n",
              "      <td>...</td>\n",
              "      <td>0</td>\n",
              "      <td>0</td>\n",
              "      <td>0</td>\n",
              "      <td>0</td>\n",
              "      <td>0</td>\n",
              "      <td>0</td>\n",
              "      <td>0</td>\n",
              "      <td>0</td>\n",
              "      <td>0</td>\n",
              "      <td>0.0</td>\n",
              "    </tr>\n",
              "    <tr>\n",
              "      <th>1</th>\n",
              "      <td>0</td>\n",
              "      <td>0</td>\n",
              "      <td>0</td>\n",
              "      <td>0</td>\n",
              "      <td>0</td>\n",
              "      <td>0</td>\n",
              "      <td>0</td>\n",
              "      <td>0</td>\n",
              "      <td>0</td>\n",
              "      <td>0</td>\n",
              "      <td>...</td>\n",
              "      <td>0</td>\n",
              "      <td>0</td>\n",
              "      <td>0</td>\n",
              "      <td>0</td>\n",
              "      <td>0</td>\n",
              "      <td>0</td>\n",
              "      <td>0</td>\n",
              "      <td>0</td>\n",
              "      <td>0</td>\n",
              "      <td>0.0</td>\n",
              "    </tr>\n",
              "    <tr>\n",
              "      <th>2</th>\n",
              "      <td>0</td>\n",
              "      <td>0</td>\n",
              "      <td>0</td>\n",
              "      <td>0</td>\n",
              "      <td>0</td>\n",
              "      <td>0</td>\n",
              "      <td>0</td>\n",
              "      <td>0</td>\n",
              "      <td>0</td>\n",
              "      <td>0</td>\n",
              "      <td>...</td>\n",
              "      <td>0</td>\n",
              "      <td>0</td>\n",
              "      <td>0</td>\n",
              "      <td>0</td>\n",
              "      <td>0</td>\n",
              "      <td>0</td>\n",
              "      <td>0</td>\n",
              "      <td>0</td>\n",
              "      <td>0</td>\n",
              "      <td>0.0</td>\n",
              "    </tr>\n",
              "    <tr>\n",
              "      <th>3</th>\n",
              "      <td>0</td>\n",
              "      <td>0</td>\n",
              "      <td>0</td>\n",
              "      <td>0</td>\n",
              "      <td>0</td>\n",
              "      <td>0</td>\n",
              "      <td>0</td>\n",
              "      <td>0</td>\n",
              "      <td>0</td>\n",
              "      <td>0</td>\n",
              "      <td>...</td>\n",
              "      <td>0</td>\n",
              "      <td>0</td>\n",
              "      <td>0</td>\n",
              "      <td>0</td>\n",
              "      <td>0</td>\n",
              "      <td>0</td>\n",
              "      <td>0</td>\n",
              "      <td>0</td>\n",
              "      <td>0</td>\n",
              "      <td>0.0</td>\n",
              "    </tr>\n",
              "    <tr>\n",
              "      <th>4</th>\n",
              "      <td>0</td>\n",
              "      <td>0</td>\n",
              "      <td>0</td>\n",
              "      <td>0</td>\n",
              "      <td>0</td>\n",
              "      <td>0</td>\n",
              "      <td>0</td>\n",
              "      <td>0</td>\n",
              "      <td>0</td>\n",
              "      <td>0</td>\n",
              "      <td>...</td>\n",
              "      <td>0</td>\n",
              "      <td>0</td>\n",
              "      <td>0</td>\n",
              "      <td>0</td>\n",
              "      <td>0</td>\n",
              "      <td>0</td>\n",
              "      <td>0</td>\n",
              "      <td>0</td>\n",
              "      <td>0</td>\n",
              "      <td>0.0</td>\n",
              "    </tr>\n",
              "  </tbody>\n",
              "</table>\n",
              "<p>5 rows × 785 columns</p>\n",
              "</div>\n",
              "      <button class=\"colab-df-convert\" onclick=\"convertToInteractive('df-8dc1623b-3752-4470-b8b7-a6b30309035e')\"\n",
              "              title=\"Convert this dataframe to an interactive table.\"\n",
              "              style=\"display:none;\">\n",
              "        \n",
              "  <svg xmlns=\"http://www.w3.org/2000/svg\" height=\"24px\"viewBox=\"0 0 24 24\"\n",
              "       width=\"24px\">\n",
              "    <path d=\"M0 0h24v24H0V0z\" fill=\"none\"/>\n",
              "    <path d=\"M18.56 5.44l.94 2.06.94-2.06 2.06-.94-2.06-.94-.94-2.06-.94 2.06-2.06.94zm-11 1L8.5 8.5l.94-2.06 2.06-.94-2.06-.94L8.5 2.5l-.94 2.06-2.06.94zm10 10l.94 2.06.94-2.06 2.06-.94-2.06-.94-.94-2.06-.94 2.06-2.06.94z\"/><path d=\"M17.41 7.96l-1.37-1.37c-.4-.4-.92-.59-1.43-.59-.52 0-1.04.2-1.43.59L10.3 9.45l-7.72 7.72c-.78.78-.78 2.05 0 2.83L4 21.41c.39.39.9.59 1.41.59.51 0 1.02-.2 1.41-.59l7.78-7.78 2.81-2.81c.8-.78.8-2.07 0-2.86zM5.41 20L4 18.59l7.72-7.72 1.47 1.35L5.41 20z\"/>\n",
              "  </svg>\n",
              "      </button>\n",
              "      \n",
              "  <style>\n",
              "    .colab-df-container {\n",
              "      display:flex;\n",
              "      flex-wrap:wrap;\n",
              "      gap: 12px;\n",
              "    }\n",
              "\n",
              "    .colab-df-convert {\n",
              "      background-color: #E8F0FE;\n",
              "      border: none;\n",
              "      border-radius: 50%;\n",
              "      cursor: pointer;\n",
              "      display: none;\n",
              "      fill: #1967D2;\n",
              "      height: 32px;\n",
              "      padding: 0 0 0 0;\n",
              "      width: 32px;\n",
              "    }\n",
              "\n",
              "    .colab-df-convert:hover {\n",
              "      background-color: #E2EBFA;\n",
              "      box-shadow: 0px 1px 2px rgba(60, 64, 67, 0.3), 0px 1px 3px 1px rgba(60, 64, 67, 0.15);\n",
              "      fill: #174EA6;\n",
              "    }\n",
              "\n",
              "    [theme=dark] .colab-df-convert {\n",
              "      background-color: #3B4455;\n",
              "      fill: #D2E3FC;\n",
              "    }\n",
              "\n",
              "    [theme=dark] .colab-df-convert:hover {\n",
              "      background-color: #434B5C;\n",
              "      box-shadow: 0px 1px 3px 1px rgba(0, 0, 0, 0.15);\n",
              "      filter: drop-shadow(0px 1px 2px rgba(0, 0, 0, 0.3));\n",
              "      fill: #FFFFFF;\n",
              "    }\n",
              "  </style>\n",
              "\n",
              "      <script>\n",
              "        const buttonEl =\n",
              "          document.querySelector('#df-8dc1623b-3752-4470-b8b7-a6b30309035e button.colab-df-convert');\n",
              "        buttonEl.style.display =\n",
              "          google.colab.kernel.accessAllowed ? 'block' : 'none';\n",
              "\n",
              "        async function convertToInteractive(key) {\n",
              "          const element = document.querySelector('#df-8dc1623b-3752-4470-b8b7-a6b30309035e');\n",
              "          const dataTable =\n",
              "            await google.colab.kernel.invokeFunction('convertToInteractive',\n",
              "                                                     [key], {});\n",
              "          if (!dataTable) return;\n",
              "\n",
              "          const docLinkHtml = 'Like what you see? Visit the ' +\n",
              "            '<a target=\"_blank\" href=https://colab.research.google.com/notebooks/data_table.ipynb>data table notebook</a>'\n",
              "            + ' to learn more about interactive tables.';\n",
              "          element.innerHTML = '';\n",
              "          dataTable['output_type'] = 'display_data';\n",
              "          await google.colab.output.renderOutput(dataTable, element);\n",
              "          const docLink = document.createElement('div');\n",
              "          docLink.innerHTML = docLinkHtml;\n",
              "          element.appendChild(docLink);\n",
              "        }\n",
              "      </script>\n",
              "    </div>\n",
              "  </div>\n",
              "  "
            ]
          },
          "metadata": {},
          "execution_count": 4
        }
      ]
    },
    {
      "cell_type": "code",
      "source": [
        "X_df=dataframe.loc[:,dataframe.columns != 'target']"
      ],
      "metadata": {
        "id": "30HdAj9EsI52"
      },
      "execution_count": null,
      "outputs": []
    },
    {
      "cell_type": "code",
      "source": [
        "y_df=dataframe['target']"
      ],
      "metadata": {
        "id": "-g8NHJYDsJR4"
      },
      "execution_count": null,
      "outputs": []
    },
    {
      "cell_type": "markdown",
      "source": [
        "# Part 2 -Split and Normalize Data"
      ],
      "metadata": {
        "id": "4obgVz9NsUXN"
      }
    },
    {
      "cell_type": "code",
      "source": [
        "X_train_, X_test_, y_train_, y_test_ = train_test_split(X_df, y_df, test_size=0.33, random_state=42)"
      ],
      "metadata": {
        "id": "jVys-kQosJ2M"
      },
      "execution_count": null,
      "outputs": []
    },
    {
      "cell_type": "code",
      "source": [
        "norm=StandardScaler().fit(X_train_)"
      ],
      "metadata": {
        "id": "ROi5gGVMsWKX"
      },
      "execution_count": null,
      "outputs": []
    },
    {
      "cell_type": "code",
      "source": [
        "x_train_norm=norm.transform(X_train_)"
      ],
      "metadata": {
        "id": "zi-Y11GLsWJT"
      },
      "execution_count": null,
      "outputs": []
    },
    {
      "cell_type": "code",
      "source": [
        "x_test_norm=norm.transform(X_test_)"
      ],
      "metadata": {
        "id": "_FY-RQoSsWDX"
      },
      "execution_count": null,
      "outputs": []
    },
    {
      "cell_type": "markdown",
      "source": [
        "# Part 3 - Use Knn model with different degrees"
      ],
      "metadata": {
        "id": "yrJ-VkABsiQu"
      }
    },
    {
      "cell_type": "markdown",
      "source": [
        "### Use Knn Dataset"
      ],
      "metadata": {
        "id": "TFHMyKYUsmOv"
      }
    },
    {
      "cell_type": "code",
      "source": [
        "degrees=[i for i in range(1,10)]"
      ],
      "metadata": {
        "id": "srs_k5VPsV-y"
      },
      "execution_count": null,
      "outputs": []
    },
    {
      "cell_type": "code",
      "source": [
        "def knn(degrees,x_train_norm,x_test_norm):\n",
        "  train_accuracy=[]\n",
        "  test_accuracy=[]\n",
        "  for degree in degrees:\n",
        "      knn=KNeighborsClassifier(n_neighbors=degree)\n",
        "      knn.fit(x_train_norm,y_train_)\n",
        "      # test accuracy\n",
        "      y_test_pred=knn.predict(x_test_norm)\n",
        "      acu_test=accuracy_score(y_test_,y_test_pred)\n",
        "      test_accuracy.append(acu_test)\n",
        "      # train accuracy\n",
        "      y_train_pred=knn.predict(x_train_norm)\n",
        "      acu_train=accuracy_score(y_train_,y_train_pred)\n",
        "      train_accuracy.append(acu_train)\n",
        "\n",
        "  return train_accuracy,test_accuracy"
      ],
      "metadata": {
        "id": "AQ3OVaPssV9t"
      },
      "execution_count": null,
      "outputs": []
    },
    {
      "cell_type": "code",
      "source": [
        "train_accuracy,test_accuracy=knn(degrees,x_train_norm,x_test_norm)"
      ],
      "metadata": {
        "id": "Vp7pjA6DsV3M"
      },
      "execution_count": null,
      "outputs": []
    },
    {
      "cell_type": "code",
      "source": [
        "train_accuracy"
      ],
      "metadata": {
        "id": "0NOQ_eOB1Mrn",
        "colab": {
          "base_uri": "https://localhost:8080/"
        },
        "outputId": "b41d01d1-d4e1-472c-ce22-a73a928a9794"
      },
      "execution_count": null,
      "outputs": [
        {
          "output_type": "execute_result",
          "data": {
            "text/plain": [
              "[1.0,\n",
              " 0.9689800995024875,\n",
              " 0.9687810945273632,\n",
              " 0.9614179104477611,\n",
              " 0.9601243781094527,\n",
              " 0.9559701492537314,\n",
              " 0.9540796019900497,\n",
              " 0.950820895522388,\n",
              " 0.9490796019900497]"
            ]
          },
          "metadata": {},
          "execution_count": 62
        }
      ]
    },
    {
      "cell_type": "code",
      "source": [
        "test_accuracy"
      ],
      "metadata": {
        "id": "W-3dMoLq1OhE",
        "colab": {
          "base_uri": "https://localhost:8080/"
        },
        "outputId": "be033a53-b742-4f36-c9fb-42245686f292"
      },
      "execution_count": null,
      "outputs": [
        {
          "output_type": "execute_result",
          "data": {
            "text/plain": [
              "[0.9403535353535354,\n",
              " 0.9298989898989899,\n",
              " 0.9409090909090909,\n",
              " 0.9384343434343434,\n",
              " 0.9405555555555556,\n",
              " 0.937979797979798,\n",
              " 0.9393939393939394,\n",
              " 0.9369191919191919,\n",
              " 0.9374747474747475]"
            ]
          },
          "metadata": {},
          "execution_count": 63
        }
      ]
    },
    {
      "cell_type": "markdown",
      "source": [
        "### Plot with different degrees"
      ],
      "metadata": {
        "id": "koE84_zpHJOq"
      }
    },
    {
      "cell_type": "code",
      "source": [
        "plt.plot(degrees ,train_accuracy,label=\"train accuracy\" )\n",
        "plt.plot(degrees ,test_accuracy,label=\"test accuracy\" )\n",
        "plt.xlabel(\"Model Complexity (Degree)\")\n",
        "plt.ylabel(\"Accuracy\")"
      ],
      "metadata": {
        "id": "8tXbI-npsVuF",
        "colab": {
          "base_uri": "https://localhost:8080/",
          "height": 466
        },
        "outputId": "278644b2-9556-4dcf-91b7-b2c0f783976c"
      },
      "execution_count": null,
      "outputs": [
        {
          "output_type": "execute_result",
          "data": {
            "text/plain": [
              "Text(0, 0.5, 'Accuracy')"
            ]
          },
          "metadata": {},
          "execution_count": 64
        },
        {
          "output_type": "display_data",
          "data": {
            "text/plain": [
              "<Figure size 640x480 with 1 Axes>"
            ],
            "image/png": "[encoded data removed]"
          },
          "metadata": {}
        }
      ]
    },
    {
      "cell_type": "markdown",
      "source": [
        "# Part 4 - Train SVC model for two classes"
      ],
      "metadata": {
        "id": "blO13pTJHVoC"
      }
    },
    {
      "cell_type": "code",
      "source": [
        "selected_df=dataframe[dataframe['target'].isin([1,0])]\n",
        "selected_X=selected_df.loc[:,selected_df.columns !='target']\n",
        "selected_y=selected_df['target']"
      ],
      "metadata": {
        "id": "ksK6TAYwHUdM"
      },
      "execution_count": null,
      "outputs": []
    },
    {
      "cell_type": "code",
      "source": [
        "x_train, x_test, y_train, y_test=train_test_split(selected_X,selected_y,test_size=0.33,random_state=42)"
      ],
      "metadata": {
        "id": "GD1pVoz-zpau"
      },
      "execution_count": null,
      "outputs": []
    },
    {
      "cell_type": "code",
      "source": [
        "parameters={'kernel':('linear','rbf'),'C':[1,10,100]}"
      ],
      "metadata": {
        "id": "Iy2tdXF2zpZQ"
      },
      "execution_count": null,
      "outputs": []
    },
    {
      "cell_type": "code",
      "source": [
        "clf = GridSearchCV(SVC(), parameters)"
      ],
      "metadata": {
        "id": "UBoigUkCzpTu"
      },
      "execution_count": null,
      "outputs": []
    },
    {
      "cell_type": "code",
      "source": [
        "clf.fit(x_train,y_train)"
      ],
      "metadata": {
        "id": "_YkKAYU4zs0A",
        "colab": {
          "base_uri": "https://localhost:8080/",
          "height": 117
        },
        "outputId": "47abef55-8b06-417b-bfa2-dc4108e39bd3"
      },
      "execution_count": null,
      "outputs": [
        {
          "output_type": "execute_result",
          "data": {
            "text/plain": [
              "GridSearchCV(estimator=SVC(),\n",
              "             param_grid={'C': [1, 10, 100], 'kernel': ('linear', 'rbf')})"
            ],
            "text/html": [
              "<style>#sk-container-id-1 {color: black;background-color: white;}#sk-container-id-1 pre{padding: 0;}#sk-container-id-1 div.sk-toggleable {background-color: white;}#sk-container-id-1 label.sk-toggleable__label {cursor: pointer;display: block;width: 100%;margin-bottom: 0;padding: 0.3em;box-sizing: border-box;text-align: center;}#sk-container-id-1 label.sk-toggleable__label-arrow:before {content: \"▸\";float: left;margin-right: 0.25em;color: #696969;}#sk-container-id-1 label.sk-toggleable__label-arrow:hover:before {color: black;}#sk-container-id-1 div.sk-estimator:hover label.sk-toggleable__label-arrow:before {color: black;}#sk-container-id-1 div.sk-toggleable__content {max-height: 0;max-width: 0;overflow: hidden;text-align: left;background-color: #f0f8ff;}#sk-container-id-1 div.sk-toggleable__content pre {margin: 0.2em;color: black;border-radius: 0.25em;background-color: #f0f8ff;}#sk-container-id-1 input.sk-toggleable__control:checked~div.sk-toggleable__content {max-height: 200px;max-width: 100%;overflow: auto;}#sk-container-id-1 input.sk-toggleable__control:checked~label.sk-toggleable__label-arrow:before {content: \"▾\";}#sk-container-id-1 div.sk-estimator input.sk-toggleable__control:checked~label.sk-toggleable__label {background-color: #d4ebff;}#sk-container-id-1 div.sk-label input.sk-toggleable__control:checked~label.sk-toggleable__label {background-color: #d4ebff;}#sk-container-id-1 input.sk-hidden--visually {border: 0;clip: rect(1px 1px 1px 1px);clip: rect(1px, 1px, 1px, 1px);height: 1px;margin: -1px;overflow: hidden;padding: 0;position: absolute;width: 1px;}#sk-container-id-1 div.sk-estimator {font-family: monospace;background-color: #f0f8ff;border: 1px dotted black;border-radius: 0.25em;box-sizing: border-box;margin-bottom: 0.5em;}#sk-container-id-1 div.sk-estimator:hover {background-color: #d4ebff;}#sk-container-id-1 div.sk-parallel-item::after {content: \"\";width: 100%;border-bottom: 1px solid gray;flex-grow: 1;}#sk-container-id-1 div.sk-label:hover label.sk-toggleable__label {background-color: #d4ebff;}#sk-container-id-1 div.sk-serial::before {content: \"\";position: absolute;border-left: 1px solid gray;box-sizing: border-box;top: 0;bottom: 0;left: 50%;z-index: 0;}#sk-container-id-1 div.sk-serial {display: flex;flex-direction: column;align-items: center;background-color: white;padding-right: 0.2em;padding-left: 0.2em;position: relative;}#sk-container-id-1 div.sk-item {position: relative;z-index: 1;}#sk-container-id-1 div.sk-parallel {display: flex;align-items: stretch;justify-content: center;background-color: white;position: relative;}#sk-container-id-1 div.sk-item::before, #sk-container-id-1 div.sk-parallel-item::before {content: \"\";position: absolute;border-left: 1px solid gray;box-sizing: border-box;top: 0;bottom: 0;left: 50%;z-index: -1;}#sk-container-id-1 div.sk-parallel-item {display: flex;flex-direction: column;z-index: 1;position: relative;background-color: white;}#sk-container-id-1 div.sk-parallel-item:first-child::after {align-self: flex-end;width: 50%;}#sk-container-id-1 div.sk-parallel-item:last-child::after {align-self: flex-start;width: 50%;}#sk-container-id-1 div.sk-parallel-item:only-child::after {width: 0;}#sk-container-id-1 div.sk-dashed-wrapped {border: 1px dashed gray;margin: 0 0.4em 0.5em 0.4em;box-sizing: border-box;padding-bottom: 0.4em;background-color: white;}#sk-container-id-1 div.sk-label label {font-family: monospace;font-weight: bold;display: inline-block;line-height: 1.2em;}#sk-container-id-1 div.sk-label-container {text-align: center;}#sk-container-id-1 div.sk-container {/* jupyter's `normalize.less` sets `[hidden] { display: none; }` but bootstrap.min.css set `[hidden] { display: none !important; }` so we also need the `!important` here to be able to override the default hidden behavior on the sphinx rendered scikit-learn.org. See: https://github.com/scikit-learn/scikit-learn/issues/21755 */display: inline-block !important;position: relative;}#sk-container-id-1 div.sk-text-repr-fallback {display: none;}</style><div id=\"sk-container-id-1\" class=\"sk-top-container\"><div class=\"sk-text-repr-fallback\"><pre>GridSearchCV(estimator=SVC(),\n",
              "             param_grid={&#x27;C&#x27;: [1, 10, 100], &#x27;kernel&#x27;: (&#x27;linear&#x27;, &#x27;rbf&#x27;)})</pre><b>In a Jupyter environment, please rerun this cell to show the HTML representation or trust the notebook. <br />On GitHub, the HTML representation is unable to render, please try loading this page with nbviewer.org.</b></div><div class=\"sk-container\" hidden><div class=\"sk-item sk-dashed-wrapped\"><div class=\"sk-label-container\"><div class=\"sk-label sk-toggleable\"><input class=\"sk-toggleable__control sk-hidden--visually\" id=\"sk-estimator-id-1\" type=\"checkbox\" ><label for=\"sk-estimator-id-1\" class=\"sk-toggleable__label sk-toggleable__label-arrow\">GridSearchCV</label><div class=\"sk-toggleable__content\"><pre>GridSearchCV(estimator=SVC(),\n",
              "             param_grid={&#x27;C&#x27;: [1, 10, 100], &#x27;kernel&#x27;: (&#x27;linear&#x27;, &#x27;rbf&#x27;)})</pre></div></div></div><div class=\"sk-parallel\"><div class=\"sk-parallel-item\"><div class=\"sk-item\"><div class=\"sk-label-container\"><div class=\"sk-label sk-toggleable\"><input class=\"sk-toggleable__control sk-hidden--visually\" id=\"sk-estimator-id-2\" type=\"checkbox\" ><label for=\"sk-estimator-id-2\" class=\"sk-toggleable__label sk-toggleable__label-arrow\">estimator: SVC</label><div class=\"sk-toggleable__content\"><pre>SVC()</pre></div></div></div><div class=\"sk-serial\"><div class=\"sk-item\"><div class=\"sk-estimator sk-toggleable\"><input class=\"sk-toggleable__control sk-hidden--visually\" id=\"sk-estimator-id-3\" type=\"checkbox\" ><label for=\"sk-estimator-id-3\" class=\"sk-toggleable__label sk-toggleable__label-arrow\">SVC</label><div class=\"sk-toggleable__content\"><pre>SVC()</pre></div></div></div></div></div></div></div></div></div></div>"
            ]
          },
          "metadata": {},
          "execution_count": 12
        }
      ]
    },
    {
      "cell_type": "code",
      "source": [
        "clf.best_params_"
      ],
      "metadata": {
        "id": "SeX5m73Izsv8",
        "colab": {
          "base_uri": "https://localhost:8080/"
        },
        "outputId": "63e62ccc-62fd-40c1-eeec-a2d9d197c511"
      },
      "execution_count": null,
      "outputs": [
        {
          "output_type": "execute_result",
          "data": {
            "text/plain": [
              "{'C': 10, 'kernel': 'rbf'}"
            ]
          },
          "metadata": {},
          "execution_count": 13
        }
      ]
    },
    {
      "cell_type": "code",
      "source": [
        "svc=SVC(C=10,kernel='rbf')"
      ],
      "metadata": {
        "id": "pJL2VE_izsuf"
      },
      "execution_count": null,
      "outputs": []
    },
    {
      "cell_type": "code",
      "source": [
        "svc.fit(x_train,y_train)"
      ],
      "metadata": {
        "id": "MtU1Fvncz2ku",
        "colab": {
          "base_uri": "https://localhost:8080/",
          "height": 74
        },
        "outputId": "e246c26f-5f93-4846-d70c-f13b4ab3766f"
      },
      "execution_count": null,
      "outputs": [
        {
          "output_type": "execute_result",
          "data": {
            "text/plain": [
              "SVC(C=10)"
            ],
            "text/html": [
              "<style>#sk-container-id-2 {color: black;background-color: white;}#sk-container-id-2 pre{padding: 0;}#sk-container-id-2 div.sk-toggleable {background-color: white;}#sk-container-id-2 label.sk-toggleable__label {cursor: pointer;display: block;width: 100%;margin-bottom: 0;padding: 0.3em;box-sizing: border-box;text-align: center;}#sk-container-id-2 label.sk-toggleable__label-arrow:before {content: \"▸\";float: left;margin-right: 0.25em;color: #696969;}#sk-container-id-2 label.sk-toggleable__label-arrow:hover:before {color: black;}#sk-container-id-2 div.sk-estimator:hover label.sk-toggleable__label-arrow:before {color: black;}#sk-container-id-2 div.sk-toggleable__content {max-height: 0;max-width: 0;overflow: hidden;text-align: left;background-color: #f0f8ff;}#sk-container-id-2 div.sk-toggleable__content pre {margin: 0.2em;color: black;border-radius: 0.25em;background-color: #f0f8ff;}#sk-container-id-2 input.sk-toggleable__control:checked~div.sk-toggleable__content {max-height: 200px;max-width: 100%;overflow: auto;}#sk-container-id-2 input.sk-toggleable__control:checked~label.sk-toggleable__label-arrow:before {content: \"▾\";}#sk-container-id-2 div.sk-estimator input.sk-toggleable__control:checked~label.sk-toggleable__label {background-color: #d4ebff;}#sk-container-id-2 div.sk-label input.sk-toggleable__control:checked~label.sk-toggleable__label {background-color: #d4ebff;}#sk-container-id-2 input.sk-hidden--visually {border: 0;clip: rect(1px 1px 1px 1px);clip: rect(1px, 1px, 1px, 1px);height: 1px;margin: -1px;overflow: hidden;padding: 0;position: absolute;width: 1px;}#sk-container-id-2 div.sk-estimator {font-family: monospace;background-color: #f0f8ff;border: 1px dotted black;border-radius: 0.25em;box-sizing: border-box;margin-bottom: 0.5em;}#sk-container-id-2 div.sk-estimator:hover {background-color: #d4ebff;}#sk-container-id-2 div.sk-parallel-item::after {content: \"\";width: 100%;border-bottom: 1px solid gray;flex-grow: 1;}#sk-container-id-2 div.sk-label:hover label.sk-toggleable__label {background-color: #d4ebff;}#sk-container-id-2 div.sk-serial::before {content: \"\";position: absolute;border-left: 1px solid gray;box-sizing: border-box;top: 0;bottom: 0;left: 50%;z-index: 0;}#sk-container-id-2 div.sk-serial {display: flex;flex-direction: column;align-items: center;background-color: white;padding-right: 0.2em;padding-left: 0.2em;position: relative;}#sk-container-id-2 div.sk-item {position: relative;z-index: 1;}#sk-container-id-2 div.sk-parallel {display: flex;align-items: stretch;justify-content: center;background-color: white;position: relative;}#sk-container-id-2 div.sk-item::before, #sk-container-id-2 div.sk-parallel-item::before {content: \"\";position: absolute;border-left: 1px solid gray;box-sizing: border-box;top: 0;bottom: 0;left: 50%;z-index: -1;}#sk-container-id-2 div.sk-parallel-item {display: flex;flex-direction: column;z-index: 1;position: relative;background-color: white;}#sk-container-id-2 div.sk-parallel-item:first-child::after {align-self: flex-end;width: 50%;}#sk-container-id-2 div.sk-parallel-item:last-child::after {align-self: flex-start;width: 50%;}#sk-container-id-2 div.sk-parallel-item:only-child::after {width: 0;}#sk-container-id-2 div.sk-dashed-wrapped {border: 1px dashed gray;margin: 0 0.4em 0.5em 0.4em;box-sizing: border-box;padding-bottom: 0.4em;background-color: white;}#sk-container-id-2 div.sk-label label {font-family: monospace;font-weight: bold;display: inline-block;line-height: 1.2em;}#sk-container-id-2 div.sk-label-container {text-align: center;}#sk-container-id-2 div.sk-container {/* jupyter's `normalize.less` sets `[hidden] { display: none; }` but bootstrap.min.css set `[hidden] { display: none !important; }` so we also need the `!important` here to be able to override the default hidden behavior on the sphinx rendered scikit-learn.org. See: https://github.com/scikit-learn/scikit-learn/issues/21755 */display: inline-block !important;position: relative;}#sk-container-id-2 div.sk-text-repr-fallback {display: none;}</style><div id=\"sk-container-id-2\" class=\"sk-top-container\"><div class=\"sk-text-repr-fallback\"><pre>SVC(C=10)</pre><b>In a Jupyter environment, please rerun this cell to show the HTML representation or trust the notebook. <br />On GitHub, the HTML representation is unable to render, please try loading this page with nbviewer.org.</b></div><div class=\"sk-container\" hidden><div class=\"sk-item\"><div class=\"sk-estimator sk-toggleable\"><input class=\"sk-toggleable__control sk-hidden--visually\" id=\"sk-estimator-id-4\" type=\"checkbox\" checked><label for=\"sk-estimator-id-4\" class=\"sk-toggleable__label sk-toggleable__label-arrow\">SVC</label><div class=\"sk-toggleable__content\"><pre>SVC(C=10)</pre></div></div></div></div></div>"
            ]
          },
          "metadata": {},
          "execution_count": 15
        }
      ]
    },
    {
      "cell_type": "code",
      "source": [
        "y_pred=svc.predict(x_test)\n",
        "accuracy_score(y_test,y_pred)"
      ],
      "metadata": {
        "colab": {
          "base_uri": "https://localhost:8080/"
        },
        "id": "5o9v7aRUo2Yd",
        "outputId": "37f1d894-93bb-4edd-bad5-85a1ee085183"
      },
      "execution_count": null,
      "outputs": [
        {
          "output_type": "execute_result",
          "data": {
            "text/plain": [
              "0.9995215311004785"
            ]
          },
          "metadata": {},
          "execution_count": 17
        }
      ]
    },
    {
      "cell_type": "markdown",
      "source": [
        "### Calculate K-fold value"
      ],
      "metadata": {
        "id": "a528T_Edz-1S"
      }
    },
    {
      "cell_type": "code",
      "source": [
        "best_k={}"
      ],
      "metadata": {
        "id": "rbLgWb4GkJB9"
      },
      "execution_count": null,
      "outputs": []
    },
    {
      "cell_type": "code",
      "source": [
        "def calculate_accuracy(model,X,y,k):\n",
        "    kfold=KFold(n_splits=k, random_state=None, shuffle=False)\n",
        "    scores = cross_val_score(model, X, y, cv=kfold)\n",
        "    accuracy = scores.mean()\n",
        "    # Better known\n",
        "    for i, (train_index, test_index) in enumerate(kfold.split(X)):\n",
        "        print(f\"Fold {i}:\")\n",
        "        print(f\"  Train: index={train_index}\")\n",
        "        print(f\"  Test:  index={test_index}\")\n",
        "        best_k[i]={'train_index':train_index,'test_index':test_index}\n",
        "    return accuracy , scores"
      ],
      "metadata": {
        "id": "Jus5gYghz2gn"
      },
      "execution_count": null,
      "outputs": []
    },
    {
      "cell_type": "code",
      "source": [
        "acc,scores=calculate_accuracy(svc,selected_X,selected_y,5)"
      ],
      "metadata": {
        "id": "ifDUGafgz2fE",
        "colab": {
          "base_uri": "https://localhost:8080/"
        },
        "outputId": "481cb04f-364d-407d-ba25-498030848f5e"
      },
      "execution_count": null,
      "outputs": [
        {
          "output_type": "stream",
          "name": "stdout",
          "text": [
            "Fold 0:\n",
            "  Train: index=[ 2533  2534  2535 ... 12662 12663 12664]\n",
            "  Test:  index=[   0    1    2 ... 2530 2531 2532]\n",
            "Fold 1:\n",
            "  Train: index=[    0     1     2 ... 12662 12663 12664]\n",
            "  Test:  index=[2533 2534 2535 ... 5063 5064 5065]\n",
            "Fold 2:\n",
            "  Train: index=[    0     1     2 ... 12662 12663 12664]\n",
            "  Test:  index=[5066 5067 5068 ... 7596 7597 7598]\n",
            "Fold 3:\n",
            "  Train: index=[    0     1     2 ... 12662 12663 12664]\n",
            "  Test:  index=[ 7599  7600  7601 ... 10129 10130 10131]\n",
            "Fold 4:\n",
            "  Train: index=[    0     1     2 ... 10129 10130 10131]\n",
            "  Test:  index=[10132 10133 10134 ... 12662 12663 12664]\n"
          ]
        }
      ]
    },
    {
      "cell_type": "code",
      "source": [
        "acc"
      ],
      "metadata": {
        "id": "mnLx4I3Uz8HF",
        "colab": {
          "base_uri": "https://localhost:8080/"
        },
        "outputId": "185dc7e2-5502-4d24-99d0-393dffa4d1aa"
      },
      "execution_count": null,
      "outputs": [
        {
          "output_type": "execute_result",
          "data": {
            "text/plain": [
              "0.9988945913936045"
            ]
          },
          "metadata": {},
          "execution_count": 25
        }
      ]
    },
    {
      "cell_type": "code",
      "source": [
        "scores"
      ],
      "metadata": {
        "id": "mqq143PSz8Fd",
        "colab": {
          "base_uri": "https://localhost:8080/"
        },
        "outputId": "ad4e5fde-c2ac-4615-da65-a84dfb19ab20"
      },
      "execution_count": null,
      "outputs": [
        {
          "output_type": "execute_result",
          "data": {
            "text/plain": [
              "array([0.99921042, 0.99802606, 0.99881563, 0.99881563, 0.99960521])"
            ]
          },
          "metadata": {},
          "execution_count": 26
        }
      ]
    },
    {
      "cell_type": "code",
      "source": [
        "best_k[0]"
      ],
      "metadata": {
        "colab": {
          "base_uri": "https://localhost:8080/"
        },
        "id": "g82l9qBNmZR0",
        "outputId": "dadc9dd7-f8fb-4266-e396-a92ba57e23bc"
      },
      "execution_count": null,
      "outputs": [
        {
          "output_type": "execute_result",
          "data": {
            "text/plain": [
              "{'train_index': array([ 2533,  2534,  2535, ..., 12662, 12663, 12664]),\n",
              " 'test_index': array([   0,    1,    2, ..., 2530, 2531, 2532])}"
            ]
          },
          "metadata": {},
          "execution_count": 27
        }
      ]
    },
    {
      "cell_type": "code",
      "source": [
        "x_train_new=selected_X.iloc[best_k[0]['train_index']]\n",
        "y_train_new=selected_y.iloc[best_k[0]['train_index']]\n",
        "x_test_new=selected_X.iloc[best_k[0]['test_index']]\n",
        "y_test_new=selected_y.iloc[best_k[0]['test_index']]"
      ],
      "metadata": {
        "id": "PbaAOZv_k0Pa"
      },
      "execution_count": null,
      "outputs": []
    },
    {
      "cell_type": "code",
      "source": [
        "best_svc=SVC(C=10,kernel='rbf')\n",
        "best_svc.fit(x_train_new,y_train_new)\n",
        "y_predict=best_svc.predict(x_test_new)\n",
        "accuracy_score(y_test_new,y_predict)"
      ],
      "metadata": {
        "colab": {
          "base_uri": "https://localhost:8080/"
        },
        "id": "ncdS_C9SlhRC",
        "outputId": "1100652a-d8dd-4b51-aa9a-7aea5a1ac445"
      },
      "execution_count": null,
      "outputs": [
        {
          "output_type": "execute_result",
          "data": {
            "text/plain": [
              "0.9992104224240032"
            ]
          },
          "metadata": {},
          "execution_count": 29
        }
      ]
    },
    {
      "cell_type": "markdown",
      "source": [
        "### Confusion Matrix"
      ],
      "metadata": {
        "id": "dvv3mkpm0Y-X"
      }
    },
    {
      "cell_type": "code",
      "source": [
        "y_pred=svc.predict(x_test)"
      ],
      "metadata": {
        "id": "n5xWabaqz8B9"
      },
      "execution_count": null,
      "outputs": []
    },
    {
      "cell_type": "code",
      "source": [
        "cm = confusion_matrix(y_test, y_pred)"
      ],
      "metadata": {
        "id": "fKcpvDKWz8Aj"
      },
      "execution_count": null,
      "outputs": []
    },
    {
      "cell_type": "code",
      "source": [
        "cm"
      ],
      "metadata": {
        "id": "zm14O8Sx0Rb2",
        "colab": {
          "base_uri": "https://localhost:8080/"
        },
        "outputId": "fb4c06ae-1b7d-4b8a-c6cc-95abe6428d41"
      },
      "execution_count": null,
      "outputs": [
        {
          "output_type": "execute_result",
          "data": {
            "text/plain": [
              "array([[1979,    0],\n",
              "       [   2, 2199]])"
            ]
          },
          "metadata": {},
          "execution_count": 32
        }
      ]
    },
    {
      "cell_type": "markdown",
      "source": [
        "# Part 5 - SVM model for couple class"
      ],
      "metadata": {
        "id": "a2seX_QXswej"
      }
    },
    {
      "cell_type": "markdown",
      "source": [
        "### The number of times each number in our pair of numbers was incorrectly recognized"
      ],
      "metadata": {
        "id": "S3aNwMrZs2HF"
      }
    },
    {
      "cell_type": "code",
      "source": [
        "class_pairs = list(combinations(range(10), 2))"
      ],
      "metadata": {
        "id": "4OcBA0XEs1Vx"
      },
      "execution_count": null,
      "outputs": []
    },
    {
      "cell_type": "code",
      "source": [
        "svc_model=SVC(C=10,kernel='rbf')"
      ],
      "metadata": {
        "id": "ol5u00kJSQuf"
      },
      "execution_count": null,
      "outputs": []
    },
    {
      "cell_type": "code",
      "source": [
        "number_of_misdiagnosis=[]\n",
        "for i,pair in enumerate(class_pairs):\n",
        "    pred_result=pred.pred_pair_num(dataframe.copy(),pair,svc_model)\n",
        "    result=pred_result.train_model_return_acc()\n",
        "    print(result)\n",
        "    data_info=ditect.numberhardditect(result)\n",
        "    if data_info != 1 :\n",
        "       number_of_misdiagnosis.append(data_info)\n"
      ],
      "metadata": {
        "colab": {
          "base_uri": "https://localhost:8080/"
        },
        "id": "4LDrU3KUQG4g",
        "outputId": "dbddfd2d-113b-4356-c648-2c70622e5145"
      },
      "execution_count": null,
      "outputs": [
        {
          "output_type": "stream",
          "name": "stdout",
          "text": [
            "{'model': (0, 1), 'accuracy': 0.9995215311004785, 'False detect 0': 0, 'False detect 1': 2}\n",
            "{'model': (0, 2), 'accuracy': 0.9982147411374649, 'False detect 0': 5, 'False detect 2': 2}\n",
            "{'model': (0, 3), 'accuracy': 0.9989944695827049, 'False detect 0': 2, 'False detect 3': 2}\n",
            "{'model': (0, 4), 'accuracy': 0.9984548029873809, 'False detect 0': 4, 'False detect 4': 2}\n",
            "{'model': (0, 5), 'accuracy': 0.9981303418803419, 'False detect 0': 4, 'False detect 5': 3}\n",
            "{'model': (0, 6), 'accuracy': 0.9966734902763562, 'False detect 0': 8, 'False detect 6': 5}\n",
            "{'model': (0, 7), 'accuracy': 0.9990057171265225, 'False detect 0': 1, 'False detect 7': 3}\n",
            "{'model': (0, 8), 'accuracy': 0.9974266598044261, 'False detect 0': 3, 'False detect 8': 7}\n",
            "{'model': (0, 9), 'accuracy': 0.996937212863706, 'False detect 0': 2, 'False detect 9': 10}\n",
            "{'model': (1, 2), 'accuracy': 0.9959436888570747, 'False detect 1': 15, 'False detect 2': 2}\n",
            "{'model': (1, 3), 'accuracy': 0.9983525535420099, 'False detect 1': 5, 'False detect 3': 2}\n",
            "{'model': (1, 4), 'accuracy': 0.9985552612569227, 'False detect 1': 5, 'False detect 4': 1}\n",
            "{'model': (1, 5), 'accuracy': 0.9987543597409069, 'False detect 1': 5, 'False detect 5': 0}\n",
            "{'model': (1, 6), 'accuracy': 0.9995213020584012, 'False detect 1': 0, 'False detect 6': 2}\n",
            "{'model': (1, 7), 'accuracy': 0.9969718145818774, 'False detect 1': 4, 'False detect 7': 9}\n",
            "{'model': (1, 8), 'accuracy': 0.9987969201154957, 'False detect 1': 1, 'False detect 8': 4}\n",
            "{'model': (1, 9), 'accuracy': 0.9988063977082836, 'False detect 1': 4, 'False detect 9': 1}\n",
            "{'model': (2, 3), 'accuracy': 0.9914786967418546, 'False detect 2': 13, 'False detect 3': 21}\n",
            "{'model': (2, 4), 'accuracy': 0.9969183359013868, 'False detect 2': 6, 'False detect 4': 6}\n",
            "{'model': (2, 5), 'accuracy': 0.9978700745473909, 'False detect 2': 5, 'False detect 5': 3}\n",
            "{'model': (2, 6), 'accuracy': 0.9982142857142857, 'False detect 2': 7, 'False detect 6': 0}\n",
            "{'model': (2, 7), 'accuracy': 0.9940505701536936, 'False detect 2': 15, 'False detect 7': 9}\n",
            "{'model': (2, 8), 'accuracy': 0.993584808827303, 'False detect 2': 13, 'False detect 8': 12}\n",
            "{'model': (2, 9), 'accuracy': 0.9977099236641221, 'False detect 2': 5, 'False detect 9': 4}\n",
            "{'model': (3, 4), 'accuracy': 0.9987348178137652, 'False detect 3': 3, 'False detect 4': 2}\n",
            "{'model': (3, 5), 'accuracy': 0.991607658012064, 'False detect 3': 15, 'False detect 5': 17}\n",
            "{'model': (3, 6), 'accuracy': 0.9997485541865728, 'False detect 3': 1, 'False detect 6': 0}\n",
            "{'model': (3, 7), 'accuracy': 0.9973111708628697, 'False detect 3': 8, 'False detect 7': 3}\n",
            "{'model': (3, 8), 'accuracy': 0.993173198482933, 'False detect 3': 18, 'False detect 8': 9}\n",
            "{'model': (3, 9), 'accuracy': 0.9957361424630048, 'False detect 3': 11, 'False detect 9': 6}\n",
            "{'model': (4, 5), 'accuracy': 0.9973096583266075, 'False detect 4': 4, 'False detect 5': 6}\n",
            "{'model': (4, 6), 'accuracy': 0.9976810100489565, 'False detect 4': 8, 'False detect 6': 1}\n",
            "{'model': (4, 7), 'accuracy': 0.993993993993994, 'False detect 4': 10, 'False detect 7': 14}\n",
            "{'model': (4, 8), 'accuracy': 0.9961129826379891, 'False detect 4': 8, 'False detect 8': 7}\n",
            "{'model': (4, 9), 'accuracy': 0.9902363823227133, 'False detect 4': 20, 'False detect 9': 18}\n",
            "{'model': (5, 6), 'accuracy': 0.9962586851950829, 'False detect 5': 9, 'False detect 6': 5}\n",
            "{'model': (5, 7), 'accuracy': 0.9979258491055224, 'False detect 5': 5, 'False detect 7': 3}\n",
            "{'model': (5, 8), 'accuracy': 0.9943548387096774, 'False detect 5': 13, 'False detect 8': 8}\n",
            "{'model': (5, 9), 'accuracy': 0.9954702904343192, 'False detect 5': 9, 'False detect 9': 8}\n",
            "{'model': (6, 7), 'accuracy': 0.9995026112907237, 'False detect 6': 0, 'False detect 7': 2}\n",
            "{'model': (6, 8), 'accuracy': 0.9966529351184346, 'False detect 6': 4, 'False detect 8': 9}\n",
            "{'model': (6, 9), 'accuracy': 0.9987235128925198, 'False detect 6': 2, 'False detect 9': 3}\n",
            "{'model': (7, 8), 'accuracy': 0.9984996249062266, 'False detect 7': 3, 'False detect 8': 3}\n",
            "{'model': (7, 9), 'accuracy': 0.9937980649962789, 'False detect 7': 16, 'False detect 9': 9}\n",
            "{'model': (8, 9), 'accuracy': 0.9948638931689779, 'False detect 8': 11, 'False detect 9': 9}\n"
          ]
        }
      ]
    },
    {
      "cell_type": "code",
      "source": [
        "number_of_misdiagnosis"
      ],
      "metadata": {
        "colab": {
          "base_uri": "https://localhost:8080/"
        },
        "id": "R3xnK9dXQ0K2",
        "outputId": "553fd9a5-5e5e-41d2-f008-76b3906eb546"
      },
      "execution_count": null,
      "outputs": [
        {
          "output_type": "execute_result",
          "data": {
            "text/plain": [
              "['in model (0, 9) , 9 hard to detect for 10 times',\n",
              " 'in model (1, 2) , 1 hard to detect for 15 times',\n",
              " 'in model (2, 3) , 2 and 3 hard to detect',\n",
              " 'in model (2, 7) , 2 hard to detect for 15 times',\n",
              " 'in model (2, 8) , 2 and 8 hard to detect',\n",
              " 'in model (3, 5) , 3 and 5 hard to detect',\n",
              " 'in model (3, 8) , 3 hard to detect for 18 times',\n",
              " 'in model (3, 9) , 3 hard to detect for 11 times',\n",
              " 'in model (4, 7) , 4 and 7 hard to detect',\n",
              " 'in model (4, 9) , 4 and 9 hard to detect',\n",
              " 'in model (5, 8) , 5 hard to detect for 13 times',\n",
              " 'in model (7, 9) , 7 hard to detect for 16 times',\n",
              " 'in model (8, 9) , 8 hard to detect for 11 times']"
            ]
          },
          "metadata": {},
          "execution_count": 36
        }
      ]
    },
    {
      "cell_type": "code",
      "source": [
        "threadLock=threading.Lock()\n",
        "number_of_misdiagnosis=[]\n",
        "threads=[]\n",
        "\n",
        "class myThread(threading.Thread):\n",
        "      def __init__(self,df,pair,svc_model):\n",
        "        threading.Thread.__init__(self)\n",
        "        self.df=df\n",
        "        self.pair=pair\n",
        "        self.svc_model=svc_model\n",
        "\n",
        "      def run(self):\n",
        "\n",
        "        threadLock.acquire()\n",
        "        pred_result=pred.pred_pair_num(self.df,self.pair,self.svc_model)\n",
        "        result=pred_result.train_model_return_acc()\n",
        "        data_info=ditect.numberhardditect(result)\n",
        "        if data_info != 1 :\n",
        "           number_of_misdiagnosis.append(data_info)\n",
        "        threadLock.release()\n",
        "\n"
      ],
      "metadata": {
        "id": "Lc1B1kEDv-Ih"
      },
      "execution_count": null,
      "outputs": []
    },
    {
      "cell_type": "code",
      "source": [
        "for i,value in enumerate(class_pairs):\n",
        "    thread = myThread(dataframe,value,svc_model)\n",
        "    threads.append(thread)\n",
        "    thread.start()"
      ],
      "metadata": {
        "id": "Al5o23gzu5YV"
      },
      "execution_count": null,
      "outputs": []
    },
    {
      "cell_type": "code",
      "source": [
        "for thread in threads:\n",
        "    thread.join()"
      ],
      "metadata": {
        "id": "Y7OD-HQAiry9"
      },
      "execution_count": null,
      "outputs": []
    },
    {
      "cell_type": "code",
      "source": [
        "number_of_misdiagnosis"
      ],
      "metadata": {
        "colab": {
          "base_uri": "https://localhost:8080/"
        },
        "id": "DFwkwPxau5R0",
        "outputId": "4b372a3d-a6b2-4c05-a543-2f19645aba19"
      },
      "execution_count": null,
      "outputs": [
        {
          "output_type": "execute_result",
          "data": {
            "text/plain": [
              "['in model (0, 9) , 9 hard to detect for 10 times',\n",
              " 'in model (1, 2) , 1 hard to detect for 15 times',\n",
              " 'in model (2, 3) , 2 and 3 hard to detect',\n",
              " 'in model (2, 7) , 2 hard to detect for 15 times',\n",
              " 'in model (2, 8) , 2 and 8 hard to detect',\n",
              " 'in model (3, 5) , 3 and 5 hard to detect',\n",
              " 'in model (3, 8) , 3 hard to detect for 18 times',\n",
              " 'in model (3, 9) , 3 hard to detect for 11 times',\n",
              " 'in model (4, 7) , 4 and 7 hard to detect',\n",
              " 'in model (4, 9) , 4 and 9 hard to detect',\n",
              " 'in model (5, 8) , 5 hard to detect for 13 times',\n",
              " 'in model (7, 9) , 7 hard to detect for 16 times',\n",
              " 'in model (8, 9) , 8 hard to detect for 11 times']"
            ]
          },
          "metadata": {},
          "execution_count": 40
        }
      ]
    },
    {
      "cell_type": "markdown",
      "source": [
        "## Conclusion\n",
        "\n",
        "Totaly our model have 99% accuracy"
      ],
      "metadata": {
        "id": "uxr8CycI0jpy"
      }
    },
    {
      "cell_type": "markdown",
      "source": [
        "# Part 6 - Predict number with 45 models"
      ],
      "metadata": {
        "id": "jmtDf2CK0uuK"
      }
    },
    {
      "cell_type": "code",
      "source": [
        "class_pairs = list(combinations(range(10), 2))"
      ],
      "metadata": {
        "id": "400KPP7zbCP-"
      },
      "execution_count": null,
      "outputs": []
    },
    {
      "cell_type": "code",
      "source": [
        "class pred_num_with_45_model():\n",
        "  def __init__(self,df,class_pairs):\n",
        "    self.df=df\n",
        "    # self.model=model\n",
        "    self.pair_models={}\n",
        "    self.output={}\n",
        "    self.class_pairs=class_pairs\n",
        "  def create_model(self):\n",
        "\n",
        "      for pair in class_pairs:\n",
        "        class_1, class_2 = pair\n",
        "        selected_df=self.df[self.df['target'].isin([class_1,class_2])]\n",
        "        selected_X=selected_df.loc[:,selected_df.columns !='target']\n",
        "        selected_y=selected_df['target']\n",
        "\n",
        "        X_train, X_test, y_train, y_test = train_test_split(selected_X, selected_y, test_size=0.33, random_state=42)\n",
        "        svc_=SVC(C=10,kernel='rbf')\n",
        "        svc_.fit(X_train,y_train)\n",
        "        self.pair_models[f\"{pair}\"]=svc_\n",
        "  def predict_model(self,input_X):\n",
        "    self.create_model()\n",
        "    for key in self.pair_models:\n",
        "        number_pred=self.pair_models[key].predict([input_X])\n",
        "        self.output[f'{key}']=number_pred[0]\n",
        "\n",
        "    most_frequent = np.bincount(list(self.output.values())).argmax()\n",
        "    return (\"Most frequent number:\", most_frequent)\n"
      ],
      "metadata": {
        "id": "Z1LNb9W3b-IO"
      },
      "execution_count": null,
      "outputs": []
    },
    {
      "cell_type": "code",
      "source": [
        "input_X=np.array(dataframe.loc[6000 , dataframe.columns !='target'])"
      ],
      "metadata": {
        "id": "Ks6SgF0d069I"
      },
      "execution_count": null,
      "outputs": []
    },
    {
      "cell_type": "code",
      "source": [
        "pred_num=pred_num_with_45_model(dataframe,class_pairs)"
      ],
      "metadata": {
        "id": "bkPX0aNy065q"
      },
      "execution_count": null,
      "outputs": []
    },
    {
      "cell_type": "code",
      "source": [
        "pred_num.predict_model(input_X)"
      ],
      "metadata": {
        "id": "E1oi4j2Y063n",
        "colab": {
          "base_uri": "https://localhost:8080/"
        },
        "outputId": "d145f45e-e50c-410d-8330-af1da99fefa4"
      },
      "execution_count": null,
      "outputs": [
        {
          "output_type": "execute_result",
          "data": {
            "text/plain": [
              "('Most frequent number:', 1)"
            ]
          },
          "metadata": {},
          "execution_count": 45
        }
      ]
    },
    {
      "cell_type": "markdown",
      "source": [
        "# Part 7 - Compare proceeds"
      ],
      "metadata": {
        "id": "b5KX9gNA0ckh"
      }
    },
    {
      "cell_type": "markdown",
      "source": [
        "In terms of performance, there is not much difference between them, in terms of precision and accuracy, both are almost equal, but in terms of runtime, the speed is higher in svc"
      ],
      "metadata": {
        "id": "H3ga7dAm2Wp1"
      }
    }
  ]
}